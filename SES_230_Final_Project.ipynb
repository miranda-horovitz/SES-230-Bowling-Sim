{
  "nbformat": 4,
  "nbformat_minor": 0,
  "metadata": {
    "colab": {
      "provenance": [],
      "include_colab_link": true
    },
    "kernelspec": {
      "name": "python3",
      "display_name": "Python 3"
    },
    "language_info": {
      "name": "python"
    }
  },
  "cells": [
    {
      "cell_type": "markdown",
      "metadata": {
        "id": "view-in-github",
        "colab_type": "text"
      },
      "source": [
        "<a href=\"https://colab.research.google.com/github/miranda-horovitz/SES-230-Bowling-Sim/blob/main/SES_230_Final_Project.ipynb\" target=\"_parent\"><img src=\"https://colab.research.google.com/assets/colab-badge.svg\" alt=\"Open In Colab\"/></a>"
      ]
    },
    {
      "cell_type": "code",
      "source": [
        "import random\n",
        "\n",
        "class SimBowlingGame:\n",
        "\n",
        "    def __init__(self, team1, team2):\n",
        "        self.team1 = team1\n",
        "        self.team2 = team2\n",
        "\n",
        "    def SimOneRoll(self, weight):\n",
        "        return random.choices([0, 1, 2, 3, 4, 5, 6, 7, 8, 9, 10], weights=[1-weight, weight, 1-weight, weight, 1-weight, weight, 1-weight, weight, 1-weight, weight, 1-weight])[0]\n",
        "\n",
        "    def SimWholeGame(self, player_name, weight):\n",
        "        total_points = 0\n",
        "        rolls = []\n",
        "\n",
        "        for _ in range(10):\n",
        "            roll1 = self.SimOneRoll(weight)\n",
        "\n",
        "            if roll1 == 10:\n",
        "                total_points += 10\n",
        "                rolls.append('X')\n",
        "            else:\n",
        "                roll2 = self.SimOneRoll(weight)\n",
        "                frame_total = roll1 + roll2\n",
        "\n",
        "                if frame_total == 10:\n",
        "                    total_points += frame_total\n",
        "                    rolls.extend([roll1, '/'])\n",
        "                else:\n",
        "                    total_points += frame_total\n",
        "                    rolls.extend([roll1, roll2])\n",
        "\n",
        "        return total_points, rolls\n",
        "\n",
        "    def SimTeamGame(self, team, weights):\n",
        "        team_total = 0\n",
        "        for player, weight in zip(team, weights):\n",
        "            player_total, _ = self.SimWholeGame(player, weight)\n",
        "            team_total += player_total\n",
        "        return team_total\n",
        "\n",
        "    def determine_winner(self):\n",
        "        weights_team1 = [float(input(f\"Enter skill for {player} in Team 1 (a number from 0 to 1): \")) for player in self.team1]\n",
        "        weights_team2 = [float(input(f\"Enter skill0.5 for {player} in Team 2 (a number from 0 to 1): \")) for player in self.team2]\n",
        "\n",
        "        team1_total = self.SimTeamGame(self.team1, weights_team1)\n",
        "        team2_total = self.SimTeamGame(self.team2, weights_team2)\n",
        "\n",
        "        if team1_total > team2_total:\n",
        "            return f\"Team 1 wins with a total score of {team1_total}.\"\n",
        "        elif team1_total < team2_total:\n",
        "            return f\"Team 2 wins with a total score of {team2_total}.\"\n",
        "        else:\n",
        "            return \"It's a tie, both teams have the same total score.\"\n",
        "\n",
        "team1_players = [\"Player1\", \"Player2\", \"Player3\", \"Player4\"]\n",
        "team2_players = [\"Player5\", \"Player6\", \"Player7\", \"Player8\"]\n",
        "\n",
        "game_instance = SimBowlingGame(team1_players, team2_players)\n",
        "result = game_instance.determine_winner()\n",
        "print(result)"
      ],
      "metadata": {
        "id": "xcwW0owYUaSD",
        "colab": {
          "base_uri": "https://localhost:8080/"
        },
        "outputId": "2125e485-460d-4f92-bbef-5ae1c3d451f8"
      },
      "execution_count": 7,
      "outputs": [
        {
          "output_type": "stream",
          "name": "stdout",
          "text": [
            "Enter skill for Player1 in Team 1 (a number from 0 to 1): 0.5\n",
            "Enter skill for Player2 in Team 1 (a number from 0 to 1): 0.5\n",
            "Enter skill for Player3 in Team 1 (a number from 0 to 1): 0.5\n",
            "Enter skill for Player4 in Team 1 (a number from 0 to 1): 0.5\n",
            "Enter skill for Player5 in Team 2 (a number from 0 to 1): 0.5\n",
            "Enter skill for Player6 in Team 2 (a number from 0 to 1): 0.5\n",
            "Enter skill for Player7 in Team 2 (a number from 0 to 1): 0.5\n",
            "Enter skill for Player8 in Team 2 (a number from 0 to 1): 0.5\n",
            "Team 2 wins with a total score of 384.\n"
          ]
        }
      ]
    }
  ]
}